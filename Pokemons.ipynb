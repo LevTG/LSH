{
 "cells": [
  {
   "cell_type": "code",
   "execution_count": 2,
   "metadata": {},
   "outputs": [
    {
     "name": "stdout",
     "output_type": "stream",
     "text": [
      "Populating the interactive namespace from numpy and matplotlib\n"
     ]
    }
   ],
   "source": [
    "#Проверим гипотезу: \"Счастливые\" покемоны весят меньше чем \"Несчастные\".\n",
    "#\"Счастливыми\" покемонами будем считать тех, у кого уровень счастья больше среднего, а \"Несчастных\" соответственно тех у кого уровень счастья меньше.\n",
    "#Для этого посчитаем средний вес покемонов с уровнем счастья выше среднего и меньше.\n",
    "#А также построим график среднего веса для каждого уровня счастья.\n",
    "\n",
    "\n",
    "import pandas as pd\n",
    "from pylab import rcParams\n",
    "#rcParams['figure.figsize'] = 8, 5\n",
    "%pylab inline\n",
    "\n",
    "pokemon = pd.read_csv('pokemon.csv')"
   ]
  },
  {
   "cell_type": "code",
   "execution_count": 3,
   "metadata": {},
   "outputs": [
    {
     "data": {
      "text/plain": [
       "count    663.000000\n",
       "mean      66.033183\n",
       "std       19.112375\n",
       "min        0.000000\n",
       "25%       70.000000\n",
       "50%       70.000000\n",
       "75%       70.000000\n",
       "max      140.000000\n",
       "Name: base_happiness, dtype: float64"
      ]
     },
     "execution_count": 3,
     "metadata": {},
     "output_type": "execute_result"
    }
   ],
   "source": [
    "pokemon['base_happiness'].describe()"
   ]
  },
  {
   "cell_type": "code",
   "execution_count": 4,
   "metadata": {},
   "outputs": [
    {
     "data": {
      "text/plain": [
       "count     663.000000\n",
       "mean      577.039216\n",
       "std       927.302988\n",
       "min         1.000000\n",
       "25%        99.000000\n",
       "50%       288.000000\n",
       "75%       609.000000\n",
       "max      9500.000000\n",
       "Name: weight, dtype: float64"
      ]
     },
     "execution_count": 4,
     "metadata": {},
     "output_type": "execute_result"
    }
   ],
   "source": [
    "pokemon['weight'].describe()"
   ]
  },
  {
   "cell_type": "code",
   "execution_count": 5,
   "metadata": {},
   "outputs": [
    {
     "data": {
      "text/plain": [
       "451.00173913043477"
      ]
     },
     "execution_count": 5,
     "metadata": {},
     "output_type": "execute_result"
    }
   ],
   "source": [
    "pokemon['is_happy'] = (pokemon['base_happiness'] > 66)\n",
    "pokemon[pokemon['is_happy']]['weight'].mean()"
   ]
  },
  {
   "cell_type": "code",
   "execution_count": 12,
   "metadata": {},
   "outputs": [
    {
     "data": {
      "text/plain": [
       "1400.5795454545455"
      ]
     },
     "execution_count": 12,
     "metadata": {},
     "output_type": "execute_result"
    }
   ],
   "source": [
    "pokemon[pokemon['is_happy'] == False]['weight'].mean()"
   ]
  },
  {
   "cell_type": "code",
   "execution_count": null,
   "metadata": {
    "collapsed": true
   },
   "outputs": [],
   "source": [
    "#Из полученных выше данных следует, что наша гипотеза близка к истине\n",
    "#Для более детального рассмотрения построим график зависимости среднего веса от уровня счастья"
   ]
  },
  {
   "cell_type": "code",
   "execution_count": 26,
   "metadata": {},
   "outputs": [
    {
     "name": "stdout",
     "output_type": "stream",
     "text": [
      "                     weight\n",
      "base_happiness             \n",
      "0               2993.727273\n",
      "35               869.530303\n",
      "70               454.622711\n",
      "90               584.000000\n",
      "100              448.357143\n",
      "140              190.500000\n"
     ]
    }
   ],
   "source": [
    "table = pokemon.pivot_table(['weight'], ['base_happiness'], aggfunc='mean')\n",
    "print(table)"
   ]
  },
  {
   "cell_type": "code",
   "execution_count": 27,
   "metadata": {},
   "outputs": [
    {
     "data": {
      "text/plain": [
       "<matplotlib.axes._subplots.AxesSubplot at 0x7fdcb5162400>"
      ]
     },
     "execution_count": 27,
     "metadata": {},
     "output_type": "execute_result"
    },
    {
     "data": {
      "image/png": "[encoded data removed]",
      "text/plain": [
       "<matplotlib.figure.Figure at 0x7fdcb551a9e8>"
      ]
     },
     "metadata": {},
     "output_type": "display_data"
    }
   ],
   "source": [
    "table.plot(kind = 'bar')"
   ]
  },
  {
   "cell_type": "code",
   "execution_count": null,
   "metadata": {
    "collapsed": true
   },
   "outputs": [],
   "source": [
    "#Из полученного графика можно сделать вывод о зависимости веса покемона от уровня счастья\n",
    "#Распределение близко к Пуассоновскому."
   ]
  }
 ],
 "metadata": {
  "kernelspec": {
   "display_name": "Python 3",
   "language": "python",
   "name": "python3"
  },
  "language_info": {
   "codemirror_mode": {
    "name": "ipython",
    "version": 3
   },
   "file_extension": ".py",
   "mimetype": "text/x-python",
   "name": "python",
   "nbconvert_exporter": "python",
   "pygments_lexer": "ipython3",
   "version": "3.5.2"
  }
 },
 "nbformat": 4,
 "nbformat_minor": 2
}
